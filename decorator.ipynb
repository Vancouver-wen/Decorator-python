{
 "cells": [
  {
   "cell_type": "markdown",
   "metadata": {},
   "source": [
    "使用装饰器实现：\n",
    "1. 统计函数运行时间\n",
    "2. 统计函数FPS\n",
    "3. 注册器\n",
    "4. 日志(sqlite),登陆尝试机制,登陆锁定(通过 限制在一定时间内失败登陆尝试的次数来保护账户安全)\n",
    "实现方式：\n",
    "1. 高阶函数\n",
    "2. 类\n",
    "注：\n",
    "装饰器的本质就是让@后面的东西作为一整个函数去调用被装饰的函数"
   ]
  },
  {
   "cell_type": "code",
   "execution_count": 53,
   "metadata": {},
   "outputs": [
    {
     "name": "stdout",
     "output_type": "stream",
     "text": [
      "Requirement already satisfied: pysqlite3 in /home/wenzihao/anaconda3/lib/python3.11/site-packages (0.5.4)\n",
      "sqlite has been inited\n"
     ]
    }
   ],
   "source": [
    "import time\n",
    "! pip install pysqlite3\n",
    "import sqlite3\n",
    "conn = sqlite3.connect('test.db')\n",
    "cursor = conn.cursor()\n",
    "try:\n",
    "    # init\n",
    "    cursor.execute('create table user(name varchar(20) primary key, password varchar(20))')\n",
    "    cursor.execute(r\"insert into user values ('wzh','6811')\")\n",
    "    conn.commit()\n",
    "    print(f\"init sqlite\")\n",
    "except:\n",
    "    print(f\"sqlite has been inited\")\n"
   ]
  },
  {
   "cell_type": "code",
   "execution_count": 54,
   "metadata": {},
   "outputs": [
    {
     "name": "stdout",
     "output_type": "stream",
     "text": [
      "funcTimeCounter Before is 1731326062.1380718\n"
     ]
    },
    {
     "name": "stdout",
     "output_type": "stream",
     "text": [
      "funcTimeCounter After is 1731326062.4381485\n",
      "funcTimeCounter Diff is 0.3000767230987549\n",
      "sleep time is 0.3\n"
     ]
    }
   ],
   "source": [
    "# 使用高阶函数统计函数运行时长\n",
    "def funcTimeCounter(func):\n",
    "    def wrapper(*args,**kwargs):\n",
    "        start_time=time.time()\n",
    "        print(f'funcTimeCounter Before is {start_time}')\n",
    "        result=func(*args,**kwargs)\n",
    "        end_time=time.time()\n",
    "        print(f'funcTimeCounter After is {end_time}')\n",
    "        print(f'funcTimeCounter Diff is {end_time-start_time}')\n",
    "        return result\n",
    "    return wrapper\n",
    "@funcTimeCounter\n",
    "def testFuncTimeCounter(st:float=0.3):\n",
    "    time.sleep(st)\n",
    "    return f'sleep time is {st}'\n",
    "print(testFuncTimeCounter())"
   ]
  },
  {
   "cell_type": "code",
   "execution_count": 55,
   "metadata": {},
   "outputs": [
    {
     "name": "stdout",
     "output_type": "stream",
     "text": [
      "FPS is 33\n",
      "FPS is 33\n"
     ]
    }
   ],
   "source": [
    "# 使用高阶函数统计FPS(控制打印信息的频率)\n",
    "count=0\n",
    "start_time=None\n",
    "def funcFpsCounter(func):\n",
    "    def wrapper(*args,**kwargs):\n",
    "        global count\n",
    "        global start_time\n",
    "        if not start_time:\n",
    "            start_time=time.time()\n",
    "        result=func(*args,**kwargs)\n",
    "        end_time=time.time()\n",
    "        if end_time-start_time>=1:\n",
    "            print(f\"FPS is {count}\")\n",
    "            count=0\n",
    "            start_time=end_time\n",
    "        else:\n",
    "            count+=1\n",
    "        return result\n",
    "    return wrapper\n",
    "@funcFpsCounter\n",
    "def testFuncFpsCounter(st:float=0.03):\n",
    "    time.sleep(st)\n",
    "for _ in range(100):\n",
    "    testFuncFpsCounter()\n",
    "        "
   ]
  },
  {
   "cell_type": "code",
   "execution_count": 56,
   "metadata": {},
   "outputs": [
    {
     "name": "stdout",
     "output_type": "stream",
     "text": [
      "testFuncRegister registe successfully\n",
      "find testFuncRegister in register\n",
      "<function testFuncRegister at 0x709c1c5763e0>\n",
      "find testFuncRegister in register\n",
      "test func register\n"
     ]
    }
   ],
   "source": [
    "# 使用高阶函数实现注册器\n",
    "register=dict()\n",
    "def funcRegister(key=None):\n",
    "    def wrapper(func):\n",
    "        global register\n",
    "        nonlocal key\n",
    "        if func:\n",
    "            if key is None:\n",
    "                key=func.__name__ \n",
    "            register[key]=func\n",
    "            print(f\"{key} registe successfully\")\n",
    "            return func\n",
    "        else:\n",
    "            print(f\"function is None, can not register\")\n",
    "            return None\n",
    "    return wrapper\n",
    "\n",
    "def getFunc(func_name):\n",
    "    if func_name in register.keys():\n",
    "        print(f\"find {func_name} in register\")\n",
    "        return register[func_name]\n",
    "    else:\n",
    "        print(f\"can not find {func_name} in register\")\n",
    "        return None\n",
    "\n",
    "@funcRegister()\n",
    "def testFuncRegister():\n",
    "    print('test func register')\n",
    "\n",
    "print(getFunc('testFuncRegister'))\n",
    "getFunc('testFuncRegister')()\n"
   ]
  },
  {
   "cell_type": "code",
   "execution_count": 57,
   "metadata": {},
   "outputs": [
    {
     "name": "stdout",
     "output_type": "stream",
     "text": [
      "登陆失败,密码错误\n",
      "登陆失败,密码错误\n",
      "登陆成功\n",
      "登陆失败,密码错误\n",
      "登陆失败,密码错误\n",
      "登陆失败,密码错误\n",
      "登陆过于频繁,请稍后重试\n"
     ]
    },
    {
     "data": {
      "text/plain": [
       "False"
      ]
     },
     "execution_count": 57,
     "metadata": {},
     "output_type": "execute_result"
    }
   ],
   "source": [
    "# 使用高阶函数实现\n",
    "# 1. 日志(sqlite)\n",
    "# 2. 登陆锁定机制\n",
    "Fail=dict()\n",
    "\n",
    "def funcLoginAttemptLimiter(limit=5):\n",
    "    def decorator(func):\n",
    "        def wrapper(*args,**kwargs):\n",
    "            global Fail\n",
    "            nonlocal limit \n",
    "            nonlocal func\n",
    "            Fail.setdefault(kwargs['name'],0)\n",
    "            if Fail[kwargs['name']]<limit:\n",
    "                if func(*args,**kwargs):\n",
    "                    Fail[kwargs['name']]=0\n",
    "                    print(f\"登陆成功\")\n",
    "                    return True\n",
    "                else:\n",
    "                    Fail[kwargs['name']]+=1\n",
    "                    print(f\"登陆失败,密码错误\")\n",
    "                    return False\n",
    "            else:\n",
    "                print(f\"登陆过于频繁,请稍后重试\")\n",
    "                return False\n",
    "        return wrapper\n",
    "    return decorator\n",
    "\n",
    "@funcLoginAttemptLimiter(limit=3)\n",
    "def funcLogin(name,password):\n",
    "    global cursor\n",
    "    result=cursor.execute(f\"select password from user where name='{name}'\").fetchone()\n",
    "    result=str(result[0])\n",
    "    if result==password:\n",
    "        return True\n",
    "    else:\n",
    "        return False\n",
    "\n",
    "funcLogin(name='wzh',password='68110')\n",
    "funcLogin(name='wzh',password='68110')\n",
    "funcLogin(name='wzh',password='6811')\n",
    "funcLogin(name='wzh',password='68110')\n",
    "funcLogin(name='wzh',password='68110')\n",
    "funcLogin(name='wzh',password='68110')\n",
    "funcLogin(name='wzh',password='6811')"
   ]
  },
  {
   "cell_type": "code",
   "execution_count": 58,
   "metadata": {},
   "outputs": [
    {
     "name": "stdout",
     "output_type": "stream",
     "text": [
      "time used is 0.30008864402770996\n"
     ]
    }
   ],
   "source": [
    "# 使用类装饰器\n",
    "# 统计函数运行时间\n",
    "\n",
    "class ClsTimeCounter(object):\n",
    "    def __init__(self,func) -> None:\n",
    "        self.func=func\n",
    "    def __call__(self,*args,**kwargs):\n",
    "        start_time=time.time()\n",
    "        result=self.func(*args,**kwargs)\n",
    "        end_time=time.time()\n",
    "        print(f\"time used is {end_time-start_time}\")\n",
    "        return result\n",
    "\n",
    "@ClsTimeCounter\n",
    "def testClsTimeCounter(st:float=0.3):\n",
    "    time.sleep(st)\n",
    "\n",
    "testClsTimeCounter()"
   ]
  },
  {
   "cell_type": "code",
   "execution_count": 59,
   "metadata": {},
   "outputs": [
    {
     "name": "stdout",
     "output_type": "stream",
     "text": [
      "FPS is 3\n",
      "FPS is 3\n"
     ]
    }
   ],
   "source": [
    "# 使用类装饰器统计函数FPS\n",
    "class ClsFpsCounter(object):\n",
    "    def __init__(self,func):\n",
    "        self.func=func\n",
    "        self.start_time=None\n",
    "        self.end_time=None\n",
    "        self.count=0\n",
    "    def __call__(self,*args,**kwargs):\n",
    "        if self.start_time is None:\n",
    "            self.start_time=time.time()\n",
    "        result=self.func(*args,**kwargs)\n",
    "        self.end_time=time.time()\n",
    "        if self.end_time-self.start_time>=1:\n",
    "            print(f\"FPS is {self.count}\")\n",
    "            self.start_time=self.end_time\n",
    "            self.count=0\n",
    "        else:\n",
    "            self.count+=1\n",
    "        return result\n",
    "\n",
    "@ClsFpsCounter\n",
    "def testClsFpsCounter(st:float=0.3):\n",
    "    time.sleep(st)\n",
    "\n",
    "for _ in range(10):\n",
    "    testClsFpsCounter()"
   ]
  },
  {
   "cell_type": "code",
   "execution_count": 60,
   "metadata": {},
   "outputs": [
    {
     "name": "stdout",
     "output_type": "stream",
     "text": [
      "test class register\n",
      "True\n"
     ]
    }
   ],
   "source": [
    "# 使用类装饰器实现注册器\n",
    "class ClsRegister(object):\n",
    "    register=dict()\n",
    "    def __init__(self):\n",
    "        pass\n",
    "    @classmethod\n",
    "    def registe(cls,func_name=None):\n",
    "        def decorator(func):\n",
    "            nonlocal func_name\n",
    "            if func_name is None:\n",
    "                func_name=func.__name__\n",
    "            cls.register[func_name]=func\n",
    "        return decorator\n",
    "    @classmethod\n",
    "    def getFunc(cls,func_name):\n",
    "        return cls.register[func_name]\n",
    "\n",
    "@ClsRegister.registe()\n",
    "def testClsRegister():\n",
    "    print(f'test class register')\n",
    "    return  True\n",
    "\n",
    "print(ClsRegister.getFunc('testClsRegister')())"
   ]
  },
  {
   "cell_type": "code",
   "execution_count": 61,
   "metadata": {},
   "outputs": [
    {
     "name": "stdout",
     "output_type": "stream",
     "text": [
      "登陆失败,密码错误\n",
      "登陆失败,密码错误\n",
      "登陆成功\n",
      "登陆失败,密码错误\n",
      "登陆失败,密码错误\n",
      "登陆失败,密码错误\n",
      "登陆成功\n"
     ]
    }
   ],
   "source": [
    "# 使用类装饰器实现\n",
    "# 日志(sqlite) 尝试登陆机制\n",
    "\n",
    "class ClsLoginAttemptLimiter(object):\n",
    "    Fail=dict()\n",
    "    def __init__(self,limit=5):\n",
    "        self.limit=limit\n",
    "    def __call__(self,func):\n",
    "        def wrapper(*args,**kwargs):\n",
    "            self.Fail.setdefault(kwargs['name'],0)\n",
    "            if self.Fail[kwargs['name']]>self.limit:\n",
    "                print(f\"登陆过于频繁,请稍后重试\")\n",
    "                return False\n",
    "            else:\n",
    "                if func(*args,**kwargs):\n",
    "                    self.Fail[kwargs['name']]=0\n",
    "                    print(f\"登陆成功\")\n",
    "                else:\n",
    "                    self.Fail[kwargs['name']]+=1\n",
    "                    print(f\"登陆失败,密码错误\")\n",
    "        return wrapper\n",
    "\n",
    "@ClsLoginAttemptLimiter(limit=3)\n",
    "def clsLogin(name,password):\n",
    "    global cursor\n",
    "    result=cursor.execute(f\"select password from user where name='{name}'\").fetchone()\n",
    "    result=str(result[0])\n",
    "    if result==password:\n",
    "        return True\n",
    "    else:\n",
    "        return False\n",
    "\n",
    "clsLogin(name='wzh',password='68110')\n",
    "clsLogin(name='wzh',password='68110')\n",
    "clsLogin(name='wzh',password='6811')\n",
    "clsLogin(name='wzh',password='68110')\n",
    "clsLogin(name='wzh',password='68110')\n",
    "clsLogin(name='wzh',password='68110')\n",
    "clsLogin(name='wzh',password='6811')"
   ]
  }
 ],
 "metadata": {
  "kernelspec": {
   "display_name": "Python 3",
   "language": "python",
   "name": "python3"
  },
  "language_info": {
   "codemirror_mode": {
    "name": "ipython",
    "version": 3
   },
   "file_extension": ".py",
   "mimetype": "text/x-python",
   "name": "python",
   "nbconvert_exporter": "python",
   "pygments_lexer": "ipython3",
   "version": "3.11.5"
  }
 },
 "nbformat": 4,
 "nbformat_minor": 2
}
